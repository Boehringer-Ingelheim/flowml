{
 "cells": [
  {
   "cell_type": "markdown",
   "metadata": {},
   "source": [
    "# Create Data sets for testing flowml"
   ]
  },
  {
   "cell_type": "code",
   "execution_count": 91,
   "metadata": {},
   "outputs": [],
   "source": [
    "import numpy as np\n",
    "import pandas as pd\n",
    "import os\n",
    "import json\n",
    "from sklearn.datasets import make_classification, make_regression\n",
    "from sklearn.model_selection import train_test_split\n"
   ]
  },
  {
   "cell_type": "markdown",
   "metadata": {},
   "source": [
    "## Create data directory"
   ]
  },
  {
   "cell_type": "code",
   "execution_count": 92,
   "metadata": {},
   "outputs": [
    {
     "name": "stdout",
     "output_type": "stream",
     "text": [
      "/home/malkusch/code/flowml/data\n"
     ]
    }
   ],
   "source": [
    "path_to_data = str(\"%s/%s\" % (os.getcwd(), \"data\"))\n",
    "print(path_to_data)\n",
    "path_to_results = str(\"%s/%s\" % (path_to_data, \"results\"))\n",
    "print(path_to_results)\n",
    "\n",
    "if not(os.path.isdir(path_to_data)):\n",
    "  os.mkdir(path_to_data) \n",
    "\n",
    "if not(os.path.isdir(path_to_results)):\n",
    "    os.mkdir(path_to_results)  "
   ]
  },
  {
   "cell_type": "markdown",
   "metadata": {},
   "source": [
    "## Define simulation parameters"
   ]
  },
  {
   "cell_type": "code",
   "execution_count": 93,
   "metadata": {},
   "outputs": [],
   "source": [
    "n_samples=150\n",
    "n_features= 25\n",
    "n_informative= 10\n",
    "shuffle_indicator=True\n",
    "coef_indicator=True\n",
    "test_size = 0.33\n",
    "random_state=42\n",
    "gene_names = []\n",
    "sample_ids = []\n",
    "\n",
    "for i in np.arange(n_features):\n",
    "    gene_name = str(\"gene_%02i\" % (i+1))\n",
    "    gene_names.append(gene_name)\n",
    "\n",
    "for i in np.arange(n_samples):\n",
    "    sample_id = str(\"sample_%03i\" % i)\n",
    "    sample_ids.append(sample_id)"
   ]
  },
  {
   "cell_type": "markdown",
   "metadata": {},
   "source": [
    "## Make regression"
   ]
  },
  {
   "cell_type": "code",
   "execution_count": 101,
   "metadata": {},
   "outputs": [],
   "source": [
    "X, y, coefs = make_regression(n_samples = n_samples,\n",
    "                             n_features= n_features,\n",
    "                             n_informative= n_informative,\n",
    "                             shuffle = shuffle_indicator,\n",
    "                             coef = coef_indicator,\n",
    "                             random_state = random_state)\n",
    "\n",
    "reg_data_df = pd.DataFrame(X, columns=gene_names)\n",
    "reg_data_df[\"response\"] = y\n",
    "reg_data_df[\"sample_id\"] = sample_ids\n",
    "\n",
    "reg_coef_df = pd.DataFrame({\"features\": gene_names,\n",
    "                            \"coef\": coefs})"
   ]
  },
  {
   "cell_type": "markdown",
   "metadata": {},
   "source": [
    "## Save results"
   ]
  },
  {
   "cell_type": "code",
   "execution_count": 102,
   "metadata": {},
   "outputs": [],
   "source": [
    "path_to_reg_data = str(\"%s/reg_data.csv\" % path_to_data)\n",
    "reg_data_df.to_csv(path_to_reg_data)\n",
    "path_to_reg_coef = str(\"%s/reg_coef.csv\" % path_to_data)\n",
    "reg_coef_df.to_csv(path_to_reg_coef)"
   ]
  },
  {
   "cell_type": "code",
   "execution_count": 96,
   "metadata": {},
   "outputs": [],
   "source": [
    "path_to_reg_features = str(\"%s/reg_features.txt\" % path_to_data)\n",
    "reg_coef_df[reg_coef_df[\"coef\"]>20][[\"features\"]].to_csv(path_to_reg_features, header=False, index=False)\n",
    "\n",
    "path_to_reg_features_ext = str(\"%s/reg_features_extended.txt\" % path_to_data)\n",
    "reg_coef_df[reg_coef_df[\"coef\"]<=20][[\"features\"]].to_csv(path_to_reg_features_ext, header=False, index=False)"
   ]
  },
  {
   "cell_type": "code",
   "execution_count": 97,
   "metadata": {},
   "outputs": [],
   "source": [
    "train_idx, test_idx =train_test_split(np.arange(n_samples),\n",
    "                                      test_size = test_size,\n",
    "                                      random_state = random_state)\n",
    "\n",
    "path_to_reg_train = str(\"%s/reg_samples_train.txt\" % path_to_data)\n",
    "pd.DataFrame(np.array(sample_ids)[train_idx]).to_csv(path_to_reg_train, header=False, index=False)\n",
    "\n",
    "path_to_reg_test = str(\"%s/reg_samples_test.txt\" % path_to_data)\n",
    "pd.DataFrame(np.array(sample_ids)[test_idx]).to_csv(path_to_reg_test, header=False, index=False)\n"
   ]
  },
  {
   "cell_type": "code",
   "execution_count": 104,
   "metadata": {},
   "outputs": [],
   "source": [
    "config_dict = {\n",
    "    \"fit.id\": \"testFitRegression\",\n",
    "    \"ml.sampleID\": \"sample_id\",\n",
    "    \"ml.type\": \"regression\",\n",
    "    \"ml.response\": \"response\",\n",
    "    \"ml.method\": \"pls\",\n",
    "    \"ml.preprocess\": [\"center\", \"scale\"],\n",
    "    \"ml.seed\": \"42\",\n",
    "    \"ml.cv\": {\n",
    "      \"method\": \"repeatedcv\",\n",
    "      \"fold\": \"5\",\n",
    "      \"repeats\": \"10\",\n",
    "      \"grid.library\": \"NULL\",\n",
    "      \"tune.grid\": \"none\",\n",
    "      \"tune.length\": \"10\"\n",
    "    },\n",
    "    \"ml.bootstrap\": {\n",
    "      \"n.resamples\": \"10\",\n",
    "      \"n.permutations\": \"100\",\n",
    "      \"strata.var\": \"NULL\"\n",
    "    },\n",
    "    \"ml.interpret\":{\n",
    "      \"n.repeats\": \"100\"\n",
    "    },\n",
    "  \"note\": \"I like machine learning\"\n",
    "}\n",
    "\n",
    "path_to_reg_config = str(\"%s/reg_config.json\" % path_to_data)\n",
    "with open(path_to_reg_config, 'w') as fp:\n",
    "    json.dump(config_dict, fp)"
   ]
  }
 ],
 "metadata": {
  "kernelspec": {
   "display_name": "dTMCP",
   "language": "python",
   "name": "python3"
  },
  "language_info": {
   "codemirror_mode": {
    "name": "ipython",
    "version": 3
   },
   "file_extension": ".py",
   "mimetype": "text/x-python",
   "name": "python",
   "nbconvert_exporter": "python",
   "pygments_lexer": "ipython3",
   "version": "3.9.15"
  },
  "orig_nbformat": 4
 },
 "nbformat": 4,
 "nbformat_minor": 2
}
